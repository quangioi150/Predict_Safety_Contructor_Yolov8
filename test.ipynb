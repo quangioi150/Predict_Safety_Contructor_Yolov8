{
 "cells": [
  {
   "cell_type": "code",
   "execution_count": 6,
   "metadata": {},
   "outputs": [],
   "source": [
    "import numpy as np \n",
    "color = tuple(np.random.choice(range(255),size=3))\n",
    "classes = ['Hardhat', 'Mask', 'NO-Hardhat', 'NO-Mask', 'NO-Safety Vest', 'Person', 'Safety Cone', 'Safety Vest', 'machinery', 'vehicle']"
   ]
  },
  {
   "cell_type": "code",
   "execution_count": 9,
   "metadata": {},
   "outputs": [
    {
     "name": "stdout",
     "output_type": "stream",
     "text": [
      "{'Hardhat': (98, 244, 232), 'Mask': (98, 244, 232), 'NO-Hardhat': (98, 244, 232), 'NO-Mask': (98, 244, 232), 'NO-Safety Vest': (98, 244, 232), 'Person': (98, 244, 232), 'Safety Cone': (98, 244, 232), 'Safety Vest': (98, 244, 232), 'machinery': (98, 244, 232), 'vehicle': (98, 244, 232)}\n"
     ]
    }
   ],
   "source": [
    "import numpy as np\n",
    "\n",
    "color = tuple(np.random.choice(range(255), size=3))\n",
    "classes = ['Hardhat', 'Mask', 'NO-Hardhat', 'NO-Mask', 'NO-Safety Vest', 'Person', 'Safety Cone', 'Safety Vest', 'machinery', 'vehicle']\n",
    "\n",
    "class_color_dict = {}\n",
    "\n",
    "for class_name in classes:\n",
    "    class_color_dict[class_name] = color\n",
    "\n",
    "print(class_color_dict)"
   ]
  },
  {
   "cell_type": "code",
   "execution_count": 11,
   "metadata": {},
   "outputs": [
    {
     "name": "stdout",
     "output_type": "stream",
     "text": [
      "(127, 130, 93)\n"
     ]
    }
   ],
   "source": [
    "import numpy as np\n",
    "\n",
    "color = tuple(np.random.choice(range(255), size=3))\n",
    "classes = ['Hardhat', 'Mask', 'NO-Hardhat', 'NO-Mask', 'NO-Safety Vest', 'Person', 'Safety Cone', 'Safety Vest', 'machinery', 'vehicle']\n",
    "\n",
    "class_color_dict = {class_name: color for class_name in classes}\n",
    "\n",
    "print(class_color_dict['Hardhat'])"
   ]
  },
  {
   "cell_type": "code",
   "execution_count": 13,
   "metadata": {},
   "outputs": [
    {
     "name": "stdout",
     "output_type": "stream",
     "text": [
      "[(105, 44, 16), (86, 142, 110), (155, 90, 41), (96, 104, 214), (244, 167, 181), (240, 139, 151), (215, 6, 190), (229, 15, 148), (242, 68, 150), (130, 161, 202)]\n"
     ]
    }
   ],
   "source": [
    "import numpy as np\n",
    "\n",
    "num_colors = 10\n",
    "color_list = []\n",
    "\n",
    "for _ in range(num_colors):\n",
    "    color = tuple(np.random.randint(0, 256, size=3))\n",
    "    color_list.append(color)\n",
    "\n",
    "print(color_list)"
   ]
  },
  {
   "cell_type": "code",
   "execution_count": 15,
   "metadata": {},
   "outputs": [
    {
     "name": "stdout",
     "output_type": "stream",
     "text": [
      "(105, 44, 16)\n"
     ]
    }
   ],
   "source": [
    "color = [(105, 44, 16), (86, 142, 110), (155, 90, 41), (96, 104, 214), (244, 167, 181), (240, 139, 151), (215, 6, 190), (229, 15, 148), (242, 68, 150), (130, 161, 202)]\n",
    "classes = ['Hardhat', 'Mask', 'NO-Hardhat', 'NO-Mask', 'NO-Safety Vest', 'Person', 'Safety Cone', 'Safety Vest', 'machinery', 'vehicle']\n",
    "\n",
    "class_color_dict = dict(zip(classes, color))\n",
    "\n",
    "print(class_color_dict['Hardhat'])\n"
   ]
  },
  {
   "cell_type": "code",
   "execution_count": 16,
   "metadata": {},
   "outputs": [
    {
     "name": "stdout",
     "output_type": "stream",
     "text": [
      "[(2, 206, 25), (172, 107, 72), (178, 143, 30), (162, 156, 105), (215, 20, 93), (159, 70, 11), (142, 52, 108), (143, 152, 137), (80, 169, 71), (115, 112, 143)]\n"
     ]
    }
   ],
   "source": [
    "import random\n",
    "\n",
    "num_colors = 10\n",
    "color_list = []\n",
    "\n",
    "for _ in range(num_colors):\n",
    "    color = (random.randint(0, 255), random.randint(0, 255), random.randint(0, 255))\n",
    "    color_list.append(color)\n",
    "\n",
    "print(color_list)"
   ]
  },
  {
   "cell_type": "code",
   "execution_count": null,
   "metadata": {},
   "outputs": [],
   "source": []
  }
 ],
 "metadata": {
  "kernelspec": {
   "display_name": "base",
   "language": "python",
   "name": "python3"
  },
  "language_info": {
   "codemirror_mode": {
    "name": "ipython",
    "version": 3
   },
   "file_extension": ".py",
   "mimetype": "text/x-python",
   "name": "python",
   "nbconvert_exporter": "python",
   "pygments_lexer": "ipython3",
   "version": "3.9.16"
  },
  "orig_nbformat": 4
 },
 "nbformat": 4,
 "nbformat_minor": 2
}
